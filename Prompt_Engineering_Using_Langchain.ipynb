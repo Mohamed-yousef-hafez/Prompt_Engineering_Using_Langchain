{
  "nbformat": 4,
  "nbformat_minor": 0,
  "metadata": {
    "colab": {
      "provenance": [],
      "authorship_tag": "ABX9TyPpkU2JTyZBUZRmck73uusb",
      "include_colab_link": true
    },
    "kernelspec": {
      "name": "python3",
      "display_name": "Python 3"
    },
    "language_info": {
      "name": "python"
    }
  },
  "cells": [
    {
      "cell_type": "markdown",
      "metadata": {
        "id": "view-in-github",
        "colab_type": "text"
      },
      "source": [
        "<a href=\"https://colab.research.google.com/github/Mohamed-yousef-hafez/Prompt_Engineering_Using_Langchain/blob/main/Prompt_Engineering_Using_Langchain.ipynb\" target=\"_parent\"><img src=\"https://colab.research.google.com/assets/colab-badge.svg\" alt=\"Open In Colab\"/></a>"
      ]
    },
    {
      "cell_type": "code",
      "execution_count": null,
      "metadata": {
        "id": "rrdPl49JQkiO"
      },
      "outputs": [],
      "source": [
        "from langchain.document_loaders import WikipediaLoader\n",
        "from langchain.text_splitter import NLTKTextSplitter\n",
        "import nltk\n",
        "nltk.download('punkt')\n",
        "from langchain.embeddings import OpenAIEmbeddings\n",
        "from dontenv import dontenv_values\n",
        "from langchain.vectorstores import Chroma\n",
        "env_values=dontenv_values(\"./app.env\")\n",
        "openai_api_key=env_values[\"OPENAI_API_KEY\"]\n",
        "\n",
        "#load document\n",
        "\n",
        "query=\"Nikola Tesla\"\n",
        "\n",
        "docs=WikipediaLoader(query=query,\n",
        "                     max_load_docs=1,\n",
        "                     doc_content_chars_max=20_000).load()\n",
        "document=docs[0].page_content\n",
        "\n",
        "#splitter\n",
        "\n",
        "text_splitter=NLTKTextSplitter(chunk_size=300,chunk_overlap=50)\n",
        "\n",
        "metadatas=[{\"document\":query}]\n",
        "\n",
        "tokens_chunks=text_splitter.create_documents(\n",
        "    [document],\n",
        "    metadatas=metadatas\n",
        ")\n",
        "\n",
        "\n",
        "#embeddings\n",
        "\n",
        "embedding_llm=OpenAIEmbedding(openai_api_key=openai_api_key)\n",
        "\n",
        "save_to_dir=\"./content/wiki_chroma_db\"\n",
        "vector_db=Chroma.from_documents(\n",
        "    tokens_chunks,\n",
        "    embedding_llm,\n",
        "    persist_directory=save_to_dir\n",
        ")"
      ]
    }
  ]
}